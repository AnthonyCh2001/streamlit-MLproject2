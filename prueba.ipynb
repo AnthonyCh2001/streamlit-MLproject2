{
 "cells": [
  {
   "cell_type": "code",
   "execution_count": 2,
   "id": "e975ebf9",
   "metadata": {},
   "outputs": [
    {
     "name": "stdout",
     "output_type": "stream",
     "text": [
      "TMDb ID de la película: 256955.0\n",
      "Error al obtener los detalles de la película: 404\n"
     ]
    }
   ],
   "source": [
    "import requests\n",
    "import pandas as pd\n",
    "from PIL import Image\n",
    "from io import BytesIO\n",
    "\n",
    "# Tu clave de API de TMDb\n",
    "API_KEY = \"684a47641efbd5e28419fb63a0b3e534\"  # Reemplaza con tu clave API de TMDb\n",
    "\n",
    "# Cargar el archivo links.csv de MovieLens\n",
    "links_df = pd.read_csv('links.csv')\n",
    "\n",
    "# ID de MovieLens que deseas buscar (por ejemplo, \"1\" para la primera película)\n",
    "movie_id = 143506  # Cambia esto por el movieId que desees\n",
    "\n",
    "# Obtener el tmdbId de la película correspondiente al movieId\n",
    "tmdb_id = links_df.loc[links_df['movieId'] == movie_id, 'tmdbId'].values[0]\n",
    "\n",
    "# Verificar el tmdbId de la película\n",
    "print(f\"TMDb ID de la película: {tmdb_id}\")\n",
    "\n",
    "# URL para obtener detalles de la película usando TMDb y el tmdbId\n",
    "url = f\"https://api.themoviedb.org/3/movie/{tmdb_id}?api_key={API_KEY}\"\n",
    "\n",
    "# Hacer la solicitud para obtener los detalles de la película\n",
    "response = requests.get(url)\n",
    "\n",
    "if response.status_code == 200:\n",
    "    data = response.json()\n",
    "\n",
    "    # Obtener el poster\n",
    "    poster_path = data.get('poster_path')\n",
    "\n",
    "    if poster_path:\n",
    "        # Generar la URL completa del poster\n",
    "        poster_url = f\"https://image.tmdb.org/t/p/w500{poster_path}\"\n",
    "\n",
    "        # Descargar el poster\n",
    "        img_response = requests.get(poster_url)\n",
    "\n",
    "        if img_response.status_code == 200:\n",
    "            # Mostrar el poster usando PIL\n",
    "            img = Image.open(BytesIO(img_response.content))\n",
    "            img.show()\n",
    "        else:\n",
    "            print(\"No se pudo descargar el poster.\")\n",
    "    else:\n",
    "        print(\"No se encontró un poster para esta película.\")\n",
    "else:\n",
    "    print(f\"Error al obtener los detalles de la película: {response.status_code}\")\n"
   ]
  }
 ],
 "metadata": {
  "kernelspec": {
   "display_name": ".venv",
   "language": "python",
   "name": "python3"
  },
  "language_info": {
   "codemirror_mode": {
    "name": "ipython",
    "version": 3
   },
   "file_extension": ".py",
   "mimetype": "text/x-python",
   "name": "python",
   "nbconvert_exporter": "python",
   "pygments_lexer": "ipython3",
   "version": "3.11.3"
  }
 },
 "nbformat": 4,
 "nbformat_minor": 5
}
